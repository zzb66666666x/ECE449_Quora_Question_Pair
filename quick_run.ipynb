{
  "nbformat": 4,
  "nbformat_minor": 0,
  "metadata": {
    "colab": {
      "name": "quick_run.ipynb",
      "provenance": []
    },
    "kernelspec": {
      "name": "python3",
      "display_name": "Python 3"
    },
    "language_info": {
      "name": "python"
    }
  },
  "cells": [
    {
      "cell_type": "markdown",
      "metadata": {
        "id": "eXFH5J0DX_Cg"
      },
      "source": [
        "# Quick Run"
      ]
    },
    {
      "cell_type": "markdown",
      "metadata": {
        "id": "Z6uqZWlIYCS_"
      },
      "source": [
        "## If you use colab, run it "
      ]
    },
    {
      "cell_type": "code",
      "metadata": {
        "colab": {
          "base_uri": "https://localhost:8080/"
        },
        "id": "HMOd-T0iXo0W",
        "outputId": "6a33db3b-81f6-45bd-f410-357674f33432"
      },
      "source": [
        "from google.colab import drive\n",
        "drive.mount('/content/drive')"
      ],
      "execution_count": 1,
      "outputs": [
        {
          "output_type": "stream",
          "text": [
            "Mounted at /content/drive\n"
          ],
          "name": "stdout"
        }
      ]
    },
    {
      "cell_type": "code",
      "metadata": {
        "colab": {
          "base_uri": "https://localhost:8080/"
        },
        "id": "H0vkrZkLX4T1",
        "outputId": "ef84880f-3f2f-4d07-bf29-b34a8b6f6d09"
      },
      "source": [
        "!pwd\n",
        "% cd /content/drive/MyDrive/QuoraQuestionPair"
      ],
      "execution_count": 2,
      "outputs": [
        {
          "output_type": "stream",
          "text": [
            "/content\n",
            "/content/drive/MyDrive/QuoraQuestionPair\n"
          ],
          "name": "stdout"
        }
      ]
    },
    {
      "cell_type": "markdown",
      "metadata": {
        "id": "NxSLcTR5YRXM"
      },
      "source": [
        "## Basics"
      ]
    },
    {
      "cell_type": "code",
      "metadata": {
        "id": "1ZHMyUyDYTiq"
      },
      "source": [
        "import numpy as np\n",
        "import pandas as pd\n",
        "import datetime, time, json\n",
        "import keras\n",
        "from keras.models import Model, Sequential\n",
        "from keras.layers import Input, TimeDistributed, Dense, Lambda, concatenate, Dropout, BatchNormalization\n",
        "from keras.layers.embeddings import Embedding\n",
        "from keras.regularizers import l2\n",
        "from keras.callbacks import Callback, ModelCheckpoint\n",
        "from keras import backend as K\n",
        "from keras import regularizers\n",
        "from sklearn.model_selection import train_test_split\n",
        "\n",
        "from importlib import reload\n",
        "import dev_layers\n",
        "import build_MLP\n",
        "import build_CNN\n",
        "import build_RNN"
      ],
      "execution_count": 3,
      "outputs": []
    },
    {
      "cell_type": "code",
      "metadata": {
        "id": "MKfy_j06YYN9"
      },
      "source": [
        "BATCH_SIZE = 1024\n",
        "VALIDATION_SPLIT = 0.1\n",
        "TEST_SPLIT = 0.1\n",
        "RNG_SEED = 13371447\n",
        "NB_EPOCHS = 25\n",
        "# files\n",
        "Q1_TRAINING_DATA_FILE = 'q1_train.npy'\n",
        "Q2_TRAINING_DATA_FILE = 'q2_train.npy'\n",
        "Q1_TEST_DATA_FILE = 'q1_test.npy'\n",
        "Q2_TEST_DATA_FILE = 'q2_test.npy'\n",
        "TEST_ID_FILE = 'test_ids.npy'\n",
        "LABEL_TRAINING_DATA_FILE = 'label_train.npy'\n",
        "WORD_EMBEDDING_MATRIX_FILE = 'word_embedding_matrix.npy'\n",
        "NB_WORDS_DATA_FILE = 'nb_words.json'\n",
        "TRAIN_FEAT_NPY_FILE = 'train_feat_array.npy'\n",
        "TEST_FEAT_NPY_FILE = 'test_feat_array.npy'"
      ],
      "execution_count": 4,
      "outputs": []
    },
    {
      "cell_type": "markdown",
      "metadata": {
        "id": "sKIj91EwYH_T"
      },
      "source": [
        "## Load data"
      ]
    },
    {
      "cell_type": "code",
      "metadata": {
        "id": "-30uuTEWYMmC"
      },
      "source": [
        "q1_data = np.load(open(Q1_TRAINING_DATA_FILE, 'rb'))\n",
        "q2_data = np.load(open(Q2_TRAINING_DATA_FILE, 'rb'))\n",
        "labels = np.load(open(LABEL_TRAINING_DATA_FILE, 'rb'))\n",
        "word_embedding_matrix = np.load(open(WORD_EMBEDDING_MATRIX_FILE, 'rb'))\n",
        "with open(NB_WORDS_DATA_FILE, 'r') as f:\n",
        "    nb_words = json.load(f)['nb_words']\n",
        "train_feat_array = np.load(open(TRAIN_FEAT_NPY_FILE, 'rb'))\n",
        "test_feat_array = np.load(open(TEST_FEAT_NPY_FILE, 'rb'))\n",
        "\n",
        "X = np.stack((q1_data, q2_data), axis=1)\n",
        "y = labels\n",
        "X_train, X_test, y_train, y_test, X_train_feat, X_test_feat = train_test_split(X, y, train_feat_array, test_size=TEST_SPLIT, random_state=RNG_SEED)\n",
        "Q1_train = X_train[:,0]\n",
        "Q2_train = X_train[:,1]\n",
        "Q1_test = X_test[:,0]\n",
        "Q2_test = X_test[:,1]"
      ],
      "execution_count": 5,
      "outputs": []
    },
    {
      "cell_type": "markdown",
      "metadata": {
        "id": "PeFv3RXfYJsp"
      },
      "source": [
        "## Load model"
      ]
    },
    {
      "cell_type": "code",
      "metadata": {
        "id": "0niYSq2_YMz_"
      },
      "source": [
        "from keras.models import load_model\n",
        "\n",
        "model_MLP = load_model(\"MLP_model.h5\")\n",
        "\n",
        "model_CNN = load_model(\"CNN_model.h5\")\n",
        "\n",
        "model_RNN = load_model(\"RNN_model.h5\")"
      ],
      "execution_count": 6,
      "outputs": []
    },
    {
      "cell_type": "code",
      "metadata": {
        "colab": {
          "base_uri": "https://localhost:8080/"
        },
        "id": "mJ1d1_jqY_3F",
        "outputId": "8b2a5603-b0f8-4cf9-9997-a5f3186aa5c3"
      },
      "source": [
        "loss, accuracy = model_CNN.evaluate([Q1_test, Q2_test, X_test_feat], y_test, verbose=0)\n",
        "print('loss = {0:.4f}, accuracy = {1:.4f}'.format(loss, accuracy))"
      ],
      "execution_count": 7,
      "outputs": [
        {
          "output_type": "stream",
          "text": [
            "loss = 0.2411, accuracy = 0.8917\n"
          ],
          "name": "stdout"
        }
      ]
    },
    {
      "cell_type": "code",
      "metadata": {
        "colab": {
          "base_uri": "https://localhost:8080/"
        },
        "id": "GQq73Wh1ZFwx",
        "outputId": "3ae69ff8-8a8b-413a-c0f2-da853ec91b74"
      },
      "source": [
        "loss, accuracy = model_MLP.evaluate([Q1_test, Q2_test, X_test_feat], y_test, verbose=0)\n",
        "print('loss = {0:.4f}, accuracy = {1:.4f}'.format(loss, accuracy))"
      ],
      "execution_count": 8,
      "outputs": [
        {
          "output_type": "stream",
          "text": [
            "loss = 0.2353, accuracy = 0.8884\n"
          ],
          "name": "stdout"
        }
      ]
    },
    {
      "cell_type": "code",
      "metadata": {
        "colab": {
          "base_uri": "https://localhost:8080/"
        },
        "id": "XEfW5u-9ZM-Y",
        "outputId": "292ae91b-d895-4816-b16c-cf210ab0d3ae"
      },
      "source": [
        "loss, accuracy = model_RNN.evaluate([Q1_test, Q2_test, X_test_feat], y_test, verbose=0)\n",
        "print('loss = {0:.4f}, accuracy = {1:.4f}'.format(loss, accuracy))"
      ],
      "execution_count": 9,
      "outputs": [
        {
          "output_type": "stream",
          "text": [
            "loss = 0.2355, accuracy = 0.8969\n"
          ],
          "name": "stdout"
        }
      ]
    }
  ]
}